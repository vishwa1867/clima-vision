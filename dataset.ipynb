{
 "cells": [
  {
   "cell_type": "code",
   "execution_count": 1,
   "id": "8a9b0eda-8b18-47d0-9537-9490eb1a2d0c",
   "metadata": {},
   "outputs": [
    {
     "name": "stderr",
     "output_type": "stream",
     "text": [
      "c:\\Users\\vikra\\AppData\\Local\\Programs\\Python\\Python311\\Lib\\site-packages\\sklearn\\base.py:348: InconsistentVersionWarning: Trying to unpickle estimator StandardScaler from version 1.5.1 when using version 1.3.2. This might lead to breaking code or invalid results. Use at your own risk. For more info please refer to:\n",
      "https://scikit-learn.org/stable/model_persistence.html#security-maintainability-limitations\n",
      "  warnings.warn(\n",
      "C:\\Users\\vikra\\AppData\\Local\\Temp\\ipykernel_26928\\2590236175.py:31: FutureWarning: You are using `torch.load` with `weights_only=False` (the current default value), which uses the default pickle module implicitly. It is possible to construct malicious pickle data which will execute arbitrary code during unpickling (See https://github.com/pytorch/pytorch/blob/main/SECURITY.md#untrusted-models for more details). In a future release, the default value for `weights_only` will be flipped to `True`. This limits the functions that could be executed during unpickling. Arbitrary objects will no longer be allowed to be loaded via this mode unless they are explicitly allowlisted by the user via `torch.serialization.add_safe_globals`. We recommend you start setting `weights_only=True` for any use case where you don't have full control of the loaded file. Please open an issue on GitHub for any issues related to this experimental feature.\n",
      "  model.load_state_dict(torch.load(PATH,map_location=torch.device('cpu')))\n"
     ]
    }
   ],
   "source": [
    "import numpy as np\n",
    "import pandas as pd\n",
    "from sklearn.preprocessing import StandardScaler\n",
    "import umap\n",
    "from sklearn.impute import SimpleImputer\n",
    "from support import convert_date\n",
    "from timeseriesdataset import TimeSeriesDataset\n",
    "from torch.utils.data import Dataset, DataLoader\n",
    "from timeseriestransformers import *\n",
    "import joblib\n",
    "[train_dataset,test_dataset,data_umap_with_targets,scaler]=joblib.load('alldata.unknown')\n",
    "num_features = data_umap_with_targets.shape[1]\n",
    "model_dim = 128\n",
    "num_heads = 4\n",
    "num_layers = 3\n",
    "\n",
    "seq_len = 24\n",
    "pred_len = 16\n",
    "# target_features = list(range(-y.shape[1], 0))  # Indices of target features in the transformed data\n",
    "\n",
    "output_dim = 5\n",
    "\n",
    "model = TimeSeriesTransformer(num_features, model_dim, num_heads, num_layers, pred_len, output_dim).to(device)\n",
    "criterion = nn.MSELoss()\n",
    "optimizer = optim.Adam(model.parameters(), lr=1e-4)\n",
    "epoch_scheduler = torch.optim.lr_scheduler.StepLR(optimizer, step_size=5, gamma=0.9)\n",
    "\n",
    "\n",
    "# Load the saved model's state dictionary\n",
    "PATH = 'model.pth'\n",
    "model.load_state_dict(torch.load(PATH,map_location=torch.device('cpu')))\n",
    "device = torch.device(\"cuda\" if torch.cuda.is_available() else \"cpu\")\n",
    "\n",
    "model.eval()\n",
    "test_loss = 0\n",
    "# Single sample prediction (for a specific sequence from the test set)\n",
    "src, tgt = test_dataset[500]  # Retrieve a single sequence (for example, the first sequence in the test set)\n",
    "src = src.unsqueeze(0)  # Add batch dimension\n",
    "tgt = tgt.unsqueeze(0)  # Add batch dimension\n",
    "\n",
    "with torch.no_grad():\n",
    "    batch_size = src.size(0)\n",
    "    pred_len = tgt.size(1)\n",
    "    output_dim = tgt.size(2)\n",
    "\n",
    "    # Initialize the prediction sequence with zeros\n",
    "    tgt_pred = torch.zeros(batch_size, 1, output_dim).to(src.device)\n",
    "\n",
    "    # Autoregressive prediction loop (predict each time step sequentially)\n",
    "    for _ in range(pred_len):\n",
    "        output = model(src, tgt_pred)\n",
    "        next_pred = output[:, -1, :].unsqueeze(1)  # Get the prediction for the next time step\n",
    "        tgt_pred = torch.cat((tgt_pred, next_pred), dim=1)  # Append the next prediction\n",
    "\n",
    "# Remove the first zero initialization step\n",
    "tgt_pred = tgt_pred[:, 1:, :]\n",
    "# Compute loss between predicted and actual values\n",
    "criterion = nn.MSELoss()\n",
    "optimizer = optim.Adam(model.parameters(), lr=1e-4)\n",
    "loss = criterion(tgt_pred, tgt)\n",
    "test_loss += loss.item()\n",
    "\n",
    "# Inverse scaling of predictions and true values\n",
    "# Assuming your data was reshaped before scaling, you might need to reshape it back\n",
    "tgt_pred_np = tgt_pred.cpu().numpy().reshape(-1, output_dim)\n",
    "# tgt_np = tgt.cpu().numpy().reshape(-1, output_dim)\n",
    "\n",
    "tgt_pred_rescaledA = scaler.inverse_transform(np.hstack((torch.zeros(16,74),tgt_pred_np)))  # Inverse scale predictions\n",
    "tgt_pred_rescaled=tgt_pred_rescaledA[:,-5:]\n",
    "WS=np.sqrt(tgt_pred_rescaled[:,1]**2)+(tgt_pred_rescaled[:,2]**2)\n",
    "WD=np.degrees(np.arctan(tgt_pred_rescaled[:,2],tgt_pred_rescaled[:,1]))\n",
    "\n",
    "final=np.hstack((tgt_pred_rescaled[:,0:1],WD.reshape(-1,1),WS.reshape(-1,1),tgt_pred_rescaled[:,3:]))"
   ]
  },
  {
   "cell_type": "code",
   "execution_count": null,
   "id": "899b40a2",
   "metadata": {},
   "outputs": [],
   "source": []
  }
 ],
 "metadata": {
  "kernelspec": {
   "display_name": "Python 3 (ipykernel)",
   "language": "python",
   "name": "python3"
  },
  "language_info": {
   "codemirror_mode": {
    "name": "ipython",
    "version": 3
   },
   "file_extension": ".py",
   "mimetype": "text/x-python",
   "name": "python",
   "nbconvert_exporter": "python",
   "pygments_lexer": "ipython3",
   "version": "3.11.5"
  }
 },
 "nbformat": 4,
 "nbformat_minor": 5
}
